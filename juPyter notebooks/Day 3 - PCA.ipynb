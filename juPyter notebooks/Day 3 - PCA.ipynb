{
 "cells": [
  {
   "cell_type": "markdown",
   "metadata": {},
   "source": [
    "## PCA: Princial Compoenent Analysis\n",
    "\n",
    "### MSRI-UP 2023\n",
    "\n",
    "Authors: Luis Scoccola and Jose Perea\n",
    "\n",
    "Date: 6/14/2023\n",
    "\n",
    "---"
   ]
  },
  {
   "cell_type": "code",
   "execution_count": null,
   "metadata": {
    "id": "m9vNZ6ENeTY1"
   },
   "outputs": [],
   "source": [
    "# from the datasets module of scikit learn, import the load_digits function\n",
    "from sklearn.datasets import load_digits\n",
    "\n",
    "# from scikit learn, import Principal Components Analysis\n",
    "from sklearn.decomposition import PCA\n",
    "\n",
    "import numpy as np\n",
    "\n",
    "import plotly.graph_objects as go\n",
    "from plotly.subplots import make_subplots\n",
    "from matplotlib import pyplot as plt\n",
    "%matplotlib inline\n"
   ]
  },
  {
   "cell_type": "markdown",
   "metadata": {
    "id": "OsUpbl2nI5h4"
   },
   "source": [
    "## Digits example"
   ]
  },
  {
   "cell_type": "code",
   "execution_count": null,
   "metadata": {
    "id": "44zs5lHRejp-"
   },
   "outputs": [],
   "source": [
    "# Import the digits dataset\n",
    "digits = load_digits()"
   ]
  },
  {
   "cell_type": "code",
   "execution_count": null,
   "metadata": {
    "id": "zR9Otjftevvu"
   },
   "outputs": [],
   "source": [
    "# the variable digits is a dictionary. Let's see what keys it has\n",
    "print(list(digits.keys()))"
   ]
  },
  {
   "cell_type": "code",
   "execution_count": null,
   "metadata": {
    "id": "jvFsUjKLe2xv"
   },
   "outputs": [],
   "source": [
    "# we can inspect the value of each of these keys. For instance, if we print the value for data, we get a pointcloud of 1797 points in R^64\n",
    "digits['data'].shape"
   ]
  },
  {
   "cell_type": "code",
   "execution_count": null,
   "metadata": {
    "id": "fygQnJlpfHPE"
   },
   "outputs": [],
   "source": [
    "# the value of target contains the label for each of the 1797 images\n",
    "print(digits['target'].shape)\n",
    "\n",
    "# let's display the label for the first 25 digits\n",
    "print(digits['target'][:25])"
   ]
  },
  {
   "cell_type": "code",
   "execution_count": null,
   "metadata": {
    "id": "pb8ThdxMfb_9"
   },
   "outputs": [],
   "source": [
    "# The images themselves are the value of the \"images\" keys:\n",
    "digits['images'].shape\n",
    "\n",
    "# we see that there are 1797 elements, each consisting of a 8 by 8 vector/matrix"
   ]
  },
  {
   "cell_type": "code",
   "execution_count": null,
   "metadata": {
    "id": "L5iL6qsbdeVk"
   },
   "outputs": [],
   "source": [
    "# let us display the first 25 images, with their corresponding label\n",
    "\n",
    "fig = plt.figure(figsize=(5, 5))\n",
    "\n",
    "for i in range(25):\n",
    "    ax = fig.add_subplot(5, 5, i + 1, xticks=[], yticks=[])\n",
    "    ax.imshow(digits.images[i], cmap=plt.cm.binary)\n",
    "    ax.text(0, 7, str(digits.target[i]))\n",
    "\n",
    "plt.figure()"
   ]
  },
  {
   "cell_type": "code",
   "execution_count": null,
   "metadata": {},
   "outputs": [],
   "source": [
    "# Let's plot the first three coordinates of the data\n",
    "\n",
    "# Plot the data \n",
    "fig = go.Figure(data=[go.Scatter3d(\n",
    "    x=digits.data[:,0], y=digits.data[:,1], z=digits.data[:,2], \n",
    "    mode ='markers', \n",
    "    marker=dict(size = 3 , color = digits.target ))])\n",
    "\n",
    "fig.show()\n"
   ]
  },
  {
   "cell_type": "code",
   "execution_count": null,
   "metadata": {
    "id": "PZRBA_woeLSl"
   },
   "outputs": [],
   "source": [
    "# let's display the first two principal components of each element in the pointcloud\n",
    "\n",
    "# we construct a PCA object with 2 components\n",
    "pca = PCA(n_components=2)\n",
    "\n",
    "# we compute the 2D projection of the digits data\n",
    "proj2d = pca.fit_transform(digits.data)\n",
    "\n",
    "# we display the projection, coloring each point by its label\n",
    "plt.scatter(proj2d[:, 0], proj2d[:, 1], c=digits.target, cmap=\"Paired\")\n",
    "plt.colorbar()"
   ]
  },
  {
   "cell_type": "code",
   "execution_count": null,
   "metadata": {
    "id": "X9DkgZ-Cg_Jl"
   },
   "outputs": [],
   "source": [
    "# let us now do a 2D projection of just one of the classes, \n",
    "# to try to interpret what the 2 principal components are recovering in that case\n",
    "\n",
    "# find the indices for the images that contain a 1\n",
    "indices = np.where(digits['target']==1)[0]\n",
    "\n",
    "# project to 2D only the 1's\n",
    "pca = PCA(n_components=2)\n",
    "proj = pca.fit_transform(digits.data[indices])\n",
    "plt.scatter(proj[:,0],proj[:,1])\n",
    "plt.show()"
   ]
  },
  {
   "cell_type": "code",
   "execution_count": null,
   "metadata": {
    "id": "aO_5TN6Dhrud"
   },
   "outputs": [],
   "source": [
    "# there seems to be a fair amount of structure in the plot above.\n",
    "# for instance, there seem to be two distinct clusters, one with significantly fewer points. \n",
    "# The larger cluster seems also have nontrivial structure.\n",
    "# let's now plot some of the digits on top of their corresponding point in the 2D embedding, \n",
    "# to try to understand what the 2 principal components are capturing\n",
    "\n",
    "# plotting all the images would be too much, so let us just plot 100\n",
    "subsample = np.random.choice(len(indices), 100)\n",
    "\n",
    "from matplotlib.offsetbox import OffsetImage, AnnotationBbox\n",
    "\n",
    "fig, ax = plt.subplots(figsize=(15,15))\n",
    "ax.scatter(proj[subsample,0], proj[subsample,1]) \n",
    "\n",
    "for x0, y0, im in zip(proj[subsample,0], proj[subsample,1],digits[\"images\"][indices][subsample]):\n",
    "    ab = AnnotationBbox(OffsetImage(im, cmap='binary',zoom=2), (x0, y0))\n",
    "    ax.add_artist(ab)"
   ]
  },
  {
   "cell_type": "markdown",
   "metadata": {},
   "source": [
    "## Mystery Data 3"
   ]
  },
  {
   "cell_type": "code",
   "execution_count": null,
   "metadata": {},
   "outputs": [],
   "source": [
    "data = np.loadtxt('./data/Data_3.txt', delimiter =',')\n",
    "data.shape"
   ]
  },
  {
   "cell_type": "code",
   "execution_count": null,
   "metadata": {},
   "outputs": [],
   "source": [
    "pca = PCA(n_components=5)\n",
    "data_pca = pca.fit(data).transform(data)\n",
    "\n",
    "print('Explained Variance', pca.explained_variance_ratio_)\n",
    "\n",
    "fig = go.Figure(data=[go.Scatter3d(\n",
    "    x=data_pca[:,0], y=data_pca[:,1], z=data_pca[:,2], \n",
    "    mode ='markers', \n",
    "    marker=dict(size = 1.5, color = 'grey')\n",
    ")])\n",
    "\n",
    "fig.show()"
   ]
  }
 ],
 "metadata": {
  "colab": {
   "collapsed_sections": [],
   "name": "Notebook-0.ipynb",
   "provenance": [],
   "toc_visible": true
  },
  "kernelspec": {
   "display_name": "Python 3 (ipykernel)",
   "language": "python",
   "name": "python3"
  },
  "language_info": {
   "codemirror_mode": {
    "name": "ipython",
    "version": 3
   },
   "file_extension": ".py",
   "mimetype": "text/x-python",
   "name": "python",
   "nbconvert_exporter": "python",
   "pygments_lexer": "ipython3",
   "version": "3.9.12"
  }
 },
 "nbformat": 4,
 "nbformat_minor": 1
}
