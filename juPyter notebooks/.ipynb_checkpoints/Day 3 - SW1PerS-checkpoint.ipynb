{
 "cells": [
  {
   "cell_type": "markdown",
   "id": "1342af2a",
   "metadata": {},
   "source": [
    "# SW1PerS: Sliding Windows and 1-Persistence Scoring\n",
    "\n",
    "### MSRI-UP 2023\n",
    "\n",
    "Authors: Jose Perea \n",
    "\n",
    "Date: 06/14/2023\n",
    "\n",
    "\n",
    "---\n"
   ]
  },
  {
   "cell_type": "markdown",
   "id": "8878782f",
   "metadata": {},
   "source": [
    "### Activity: \n",
    "\n",
    "Write a python function which takes as input a time series $f$, enconded as a list or an array, a time delay $\\tau > 0$, an embedding dimension $d \\in \\mathbb{N}$, a number of points `n_data`, and returns the corresponding sliding window point cloud   "
   ]
  },
  {
   "cell_type": "code",
   "execution_count": null,
   "id": "e09e8012",
   "metadata": {},
   "outputs": [],
   "source": [
    "## Your work here\n",
    "\n",
    "\n",
    "\n",
    "\n"
   ]
  },
  {
   "cell_type": "code",
   "execution_count": null,
   "id": "23a78a45",
   "metadata": {},
   "outputs": [],
   "source": [
    "## Test it here\n",
    "\n",
    "\n",
    "\n"
   ]
  },
  {
   "cell_type": "markdown",
   "id": "9bb57d08",
   "metadata": {},
   "source": [
    "### Activity"
   ]
  }
 ],
 "metadata": {
  "kernelspec": {
   "display_name": "Python 3 (ipykernel)",
   "language": "python",
   "name": "python3"
  },
  "language_info": {
   "codemirror_mode": {
    "name": "ipython",
    "version": 3
   },
   "file_extension": ".py",
   "mimetype": "text/x-python",
   "name": "python",
   "nbconvert_exporter": "python",
   "pygments_lexer": "ipython3",
   "version": "3.10.9"
  }
 },
 "nbformat": 4,
 "nbformat_minor": 5
}
